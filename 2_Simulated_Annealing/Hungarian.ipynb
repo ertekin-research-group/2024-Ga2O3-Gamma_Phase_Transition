{
 "cells": [
  {
   "cell_type": "code",
   "execution_count": null,
   "id": "bc5cf9b7-10b6-4434-8d92-c177dfdf94f1",
   "metadata": {},
   "outputs": [],
   "source": [
    "import numpy as np\n",
    "from pymatgen.io.vasp import Poscar\n",
    "from pymatgen.core import Structure\n",
    "from scipy.optimize import linear_sum_assignment\n",
    "\n",
    "def objective_function(order, structure_A, structure_B, lattice):\n",
    "    \"\"\"\n",
    "    Compute the sum of squared displacements between structure_A and reordered structure_B\n",
    "    based on the given order.\n",
    "    \"\"\"\n",
    "    reordered_structure_B = structure_B[order]\n",
    "    total_distance = 0\n",
    "    for i in range(len(structure_A)):\n",
    "        frac_distance = structure_A[i] - reordered_structure_B[i]\n",
    "        frac_distance = frac_distance - np.round(frac_distance)  # Apply PBC\n",
    "        cart_distance = lattice.get_cartesian_coords(frac_distance)\n",
    "        total_distance += np.dot(cart_distance, cart_distance)\n",
    "    return total_distance\n",
    "\n",
    "folder_path = \"./\"\n",
    "poscar_file_A = folder_path + '/CONTCAR_B_VGa_tuned.vasp'\n",
    "poscar_file_B = folder_path + '/CONTCAR_G_VGa_tuned.vasp'\n",
    "\n",
    "structure_A = Poscar.from_file(poscar_file_A).structure.frac_coords\n",
    "structure_B = Poscar.from_file(poscar_file_B).structure.frac_coords\n",
    "lattice_A = Poscar.from_file(poscar_file_A).structure.lattice\n",
    "\n",
    "num_atoms = len(structure_A)\n",
    "cost_mat = np.zeros((num_atoms, num_atoms))\n",
    "\n",
    "for i in range(num_atoms):\n",
    "    for j in range(num_atoms):\n",
    "        frac_distance = structure_A[i] - structure_B[j]\n",
    "        frac_distance = frac_distance - np.round(frac_distance)  # Apply PBC\n",
    "        cart_distance = lattice_A.get_cartesian_coords(frac_distance)\n",
    "        cost_mat[i, j] = np.dot(cart_distance, cart_distance)\n",
    "\n",
    "row_ind, col_ind = linear_sum_assignment(cost_mat)\n",
    "\n",
    "minimum_cost = objective_function(col_ind, structure_A, structure_B, lattice_A)\n",
    "print(f\"Minimum total squared displacement: {minimum_cost}\")\n",
    "\n",
    "reordered_structure_B = structure_B[col_ind]\n",
    "\n",
    "lattice_B = Poscar.from_file(poscar_file_B).structure.lattice\n",
    "reordered_structure_B_struct = Structure(\n",
    "    lattice=lattice_B,\n",
    "    species=[\"Ga\"] * len(reordered_structure_B),\n",
    "    coords=reordered_structure_B,\n",
    "    coords_are_cartesian=False\n",
    ")\n",
    "\n",
    "output_file = folder_path + '/Results_VGa/Optimal_CONTCAR.vasp'\n",
    "Poscar(reordered_structure_B_struct).write_file(output_file)\n",
    "print(f\"Reordered structure written to: {output_file}\")\n"
   ]
  }
 ],
 "metadata": {
  "kernelspec": {
   "display_name": "cnlee3",
   "language": "python",
   "name": "cnlee3"
  },
  "language_info": {
   "codemirror_mode": {
    "name": "ipython",
    "version": 3
   },
   "file_extension": ".py",
   "mimetype": "text/x-python",
   "name": "python",
   "nbconvert_exporter": "python",
   "pygments_lexer": "ipython3",
   "version": "3.8.12"
  }
 },
 "nbformat": 4,
 "nbformat_minor": 5
}
